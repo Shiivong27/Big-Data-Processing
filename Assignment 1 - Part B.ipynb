{
 "cells": [
  {
   "cell_type": "markdown",
   "metadata": {},
   "source": [
    "# Shiivong Kapil Birla - 30046572\n",
    "\n",
    "# Part B - Analysing CSV Data"
   ]
  },
  {
   "cell_type": "markdown",
   "metadata": {},
   "source": [
    "#  Step 1 - Import  pyspark and Initialize Spark"
   ]
  },
  {
   "cell_type": "code",
   "execution_count": 1,
   "metadata": {},
   "outputs": [],
   "source": [
    "from pyspark import SparkContext, SparkConf\n",
    "from pyspark.sql import SparkSession\n",
    "import re\n",
    "import nltk\n",
    "import matplotlib.pyplot as plt\n",
    "import os\n",
    "from pyspark.sql.functions import mean as _mean, stddev as _stddev, col, min as _min, max as _max, count as _count\n",
    "from pyspark.sql.types import DateType\n",
    "from pyspark.sql.functions import countDistinct\n",
    "from pyspark.sql.functions import udf, desc as descending\n",
    "from datetime import datetime"
   ]
  },
  {
   "cell_type": "markdown",
   "metadata": {},
   "source": [
    "Before proceeding, we need to set the **environent** variable."
   ]
  },
  {
   "cell_type": "code",
   "execution_count": 2,
   "metadata": {},
   "outputs": [],
   "source": [
    "os.environ['PYSPARK_SUBMIT_ARGS'] = '--packages org.mongodb.spark:mongo-spark-connector_2.11:2.4.0 pyspark-shell'"
   ]
  },
  {
   "cell_type": "code",
   "execution_count": 3,
   "metadata": {},
   "outputs": [],
   "source": [
    "spark_context = SparkContext.getOrCreate()"
   ]
  },
  {
   "cell_type": "code",
   "execution_count": 4,
   "metadata": {},
   "outputs": [],
   "source": [
    "if spark_context is None:\n",
    "    spark_context = SparkContext(master = \"local[*]\", appName = \"Spark Assignment 1 Task A\")\n",
    "\n",
    "spark_B = SparkSession(sparkContext = spark_context)\\\n",
    "    .builder \\\n",
    "    .appName(\"Part B\") \\\n",
    "    .config(\"spark.mongodb.input.uri\", \"mongodb://127.0.0.1/Assignment1.PartB\") \\\n",
    "    .config(\"spark.mongodb.output.uri\", \"mongodb://127.0.0.1/Assignment1.PartB\") \\\n",
    "    .getOrCreate()"
   ]
  },
  {
   "cell_type": "markdown",
   "metadata": {},
   "source": [
    "Now that we have our Spark session up and running, we can read in the data file."
   ]
  },
  {
   "cell_type": "markdown",
   "metadata": {},
   "source": [
    "# Step 2 - Create Dataframe\n",
    "\n",
    "Using the `read_csv()` function we can read in the file. Header is set to **true** to get the column headers."
   ]
  },
  {
   "cell_type": "code",
   "execution_count": 5,
   "metadata": {},
   "outputs": [],
   "source": [
    "data_crime = spark_B.read.csv('Crime_Statistics_SA_2010_present.csv', header = True)"
   ]
  },
  {
   "cell_type": "code",
   "execution_count": 6,
   "metadata": {},
   "outputs": [
    {
     "name": "stdout",
     "output_type": "stream",
     "text": [
      "The number of records in the dataframe are : 727408\n"
     ]
    }
   ],
   "source": [
    "print('The number of records in the dataframe are : ' + str(data_crime.count()))"
   ]
  },
  {
   "cell_type": "markdown",
   "metadata": {},
   "source": [
    "Let's see if there are any **null values** and drop them."
   ]
  },
  {
   "cell_type": "code",
   "execution_count": 7,
   "metadata": {},
   "outputs": [],
   "source": [
    "data_crime = data_crime.dropna()"
   ]
  },
  {
   "cell_type": "code",
   "execution_count": 8,
   "metadata": {},
   "outputs": [
    {
     "name": "stdout",
     "output_type": "stream",
     "text": [
      "The number of records in the dataframe after dropping null values : 726921\n"
     ]
    }
   ],
   "source": [
    "print('The number of records in the dataframe after dropping null values : ' + str(data_crime.count()))"
   ]
  },
  {
   "cell_type": "markdown",
   "metadata": {},
   "source": [
    "# Step 3 - Write to Database\n",
    "\n",
    "Chaining the `.write.format()` with `.mode()` and then `.save()` using the **overwrite** mode, we can save this to the database."
   ]
  },
  {
   "cell_type": "code",
   "execution_count": 9,
   "metadata": {},
   "outputs": [],
   "source": [
    "data_crime.write.format('com.mongodb.spark.sql.DefaultSource').mode('overwrite').save()"
   ]
  },
  {
   "cell_type": "markdown",
   "metadata": {},
   "source": [
    "# Step 4 - Read from Database\n",
    "\n",
    "\n",
    "Using the `.read.format()` along with `.load()`m we can retrieve the records from **MongoDB**. The format which we will be using **com.mongodb.spark.sql.DefaultSource**."
   ]
  },
  {
   "cell_type": "code",
   "execution_count": 10,
   "metadata": {},
   "outputs": [],
   "source": [
    "data_crime_mongoDB = spark_B.read.format('com.mongodb.spark.sql.DefaultSource').load()"
   ]
  },
  {
   "cell_type": "markdown",
   "metadata": {},
   "source": [
    "Displaying the **pyspark sql dataframe** which we just rewad from the database."
   ]
  },
  {
   "cell_type": "code",
   "execution_count": 11,
   "metadata": {},
   "outputs": [
    {
     "name": "stdout",
     "output_type": "stream",
     "text": [
      "+-------------+---------------------------+---------------------------+---------------------------+-------------------+-------------+-----------------+--------------------+\n",
      "|Offence Count|Offence Level 1 Description|Offence Level 2 Description|Offence Level 3 Description|Postcode - Incident|Reported Date|Suburb - Incident|                 _id|\n",
      "+-------------+---------------------------+---------------------------+---------------------------+-------------------+-------------+-----------------+--------------------+\n",
      "|            2|       OFFENCES AGAINST ...|       PROPERTY DAMAGE A...|       Other property da...|               5095|   23/08/2018|          POORAKA|[5d726e693163e328...|\n",
      "|            1|       OFFENCES AGAINST ...|       THEFT AND RELATED...|                Other theft|               5095|   23/08/2018|          POORAKA|[5d726e693163e328...|\n",
      "|            1|       OFFENCES AGAINST ...|       THEFT AND RELATED...|                Other theft|               5015|   23/08/2018|    PORT ADELAIDE|[5d726e693163e328...|\n",
      "|            1|       OFFENCES AGAINST ...|       ACTS INTENDED TO ...|             Common Assault|               5015|   23/08/2018|    PORT ADELAIDE|[5d726e693163e328...|\n",
      "|            2|       OFFENCES AGAINST ...|       PROPERTY DAMAGE A...|                   Graffiti|               5700|   23/08/2018|     PORT AUGUSTA|[5d726e693163e328...|\n",
      "|            1|       OFFENCES AGAINST ...|       SERIOUS CRIMINAL ...|        SCT - Non Residence|               5700|   23/08/2018|     PORT AUGUSTA|[5d726e693163e328...|\n",
      "|            1|       OFFENCES AGAINST ...|       SERIOUS CRIMINAL ...|            SCT - Residence|               5700|   23/08/2018|     PORT AUGUSTA|[5d726e693163e328...|\n",
      "|            1|       OFFENCES AGAINST ...|       ACTS INTENDED TO ...|       Serious Assault n...|               5700|   23/08/2018|     PORT AUGUSTA|[5d726e693163e328...|\n",
      "|            1|       OFFENCES AGAINST ...|       THEFT AND RELATED...|            Theft from shop|               5606|   23/08/2018|     PORT LINCOLN|[5d726e693163e328...|\n",
      "|            1|       OFFENCES AGAINST ...|       SERIOUS CRIMINAL ...|            SCT - Residence|               5082|   23/08/2018|         PROSPECT|[5d726e693163e328...|\n",
      "|            1|       OFFENCES AGAINST ...|       THEFT AND RELATED...|       Receive or handle...|               5082|   23/08/2018|         PROSPECT|[5d726e693163e328...|\n",
      "|            1|       OFFENCES AGAINST ...|       THEFT AND RELATED...|       Theft from motor ...|               5521|   23/08/2018|          REDHILL|[5d726e693163e328...|\n",
      "|            1|       OFFENCES AGAINST ...|       ACTS INTENDED TO ...|       Serious Assault n...|               5008|   23/08/2018|      RENOWN PARK|[5d726e693163e328...|\n",
      "|            1|       OFFENCES AGAINST ...|       THEFT AND RELATED...|       Theft from motor ...|               5161|   23/08/2018|         REYNELLA|[5d726e693163e328...|\n",
      "|            1|       OFFENCES AGAINST ...|       ACTS INTENDED TO ...|             Common Assault|               5161|   23/08/2018|         REYNELLA|[5d726e693163e328...|\n",
      "|            2|       OFFENCES AGAINST ...|       PROPERTY DAMAGE A...|       Other property da...|               5033|   23/08/2018|         RICHMOND|[5d726e693163e328...|\n",
      "|            1|       OFFENCES AGAINST ...|       THEFT AND RELATED...|       Theft from motor ...|               5033|   23/08/2018|         RICHMOND|[5d726e693163e328...|\n",
      "|            1|       OFFENCES AGAINST ...|       ACTS INTENDED TO ...|             Common Assault|               5008|   23/08/2018|        RIDLEYTON|[5d726e693163e328...|\n",
      "|            1|       OFFENCES AGAINST ...|       SERIOUS CRIMINAL ...|            SCT - Residence|               5540|   23/08/2018|      RISDON PARK|[5d726e693163e328...|\n",
      "|            1|       OFFENCES AGAINST ...|       ACTS INTENDED TO ...|       Serious Assault r...|               5540|   23/08/2018|      RISDON PARK|[5d726e693163e328...|\n",
      "+-------------+---------------------------+---------------------------+---------------------------+-------------------+-------------+-----------------+--------------------+\n",
      "only showing top 20 rows\n",
      "\n"
     ]
    }
   ],
   "source": [
    "data_crime_mongoDB.show()"
   ]
  },
  {
   "cell_type": "markdown",
   "metadata": {},
   "source": [
    "Displaying the **Schema** of our dataframe. Notice how everything is a string."
   ]
  },
  {
   "cell_type": "code",
   "execution_count": 12,
   "metadata": {},
   "outputs": [
    {
     "name": "stdout",
     "output_type": "stream",
     "text": [
      "root\n",
      " |-- Offence Count: string (nullable = true)\n",
      " |-- Offence Level 1 Description: string (nullable = true)\n",
      " |-- Offence Level 2 Description: string (nullable = true)\n",
      " |-- Offence Level 3 Description: string (nullable = true)\n",
      " |-- Postcode - Incident: string (nullable = true)\n",
      " |-- Reported Date: string (nullable = true)\n",
      " |-- Suburb - Incident: string (nullable = true)\n",
      " |-- _id: struct (nullable = true)\n",
      " |    |-- oid: string (nullable = true)\n",
      "\n"
     ]
    }
   ],
   "source": [
    "data_crime_mongoDB.printSchema()"
   ]
  },
  {
   "cell_type": "markdown",
   "metadata": {},
   "source": [
    "# Step 5 - Calculate the Statistics of Numeric and String Columns\n",
    "\n",
    "We will making use of various **aggregate** functions such as count, max, min etc. for this task.\n",
    "\n",
    "For **Offence Count**, we can use the `.select()` method to select the column and appropriate aggregate function alongside it to get the statistics."
   ]
  },
  {
   "cell_type": "code",
   "execution_count": 13,
   "metadata": {},
   "outputs": [
    {
     "data": {
      "text/plain": [
       "[Row(mean=1.171599114621809, std=0.578848526499551, min='1', max='9', count=726921)]"
      ]
     },
     "execution_count": 13,
     "metadata": {},
     "output_type": "execute_result"
    }
   ],
   "source": [
    "data_crime_mongoDB.select(\n",
    "    \n",
    "    _mean(col('Offence Count')).alias('mean'),\n",
    "    _stddev(col('Offence Count')).alias('std'),\n",
    "    _min(col('Offence Count')).alias('min'),\n",
    "    _max(col('Offence Count')).alias('max'),\n",
    "    _count(col('Offence Count')).alias('count')\n",
    "\n",
    ").collect()"
   ]
  },
  {
   "cell_type": "markdown",
   "metadata": {},
   "source": [
    "Similarly for the **Reported Date** column, we get the following statistics."
   ]
  },
  {
   "cell_type": "code",
   "execution_count": 14,
   "metadata": {},
   "outputs": [
    {
     "data": {
      "text/plain": [
       "[Row(mean=None, std=None, min='1/01/2011', max='9/12/2018', count=726921)]"
      ]
     },
     "execution_count": 14,
     "metadata": {},
     "output_type": "execute_result"
    }
   ],
   "source": [
    "data_crime_mongoDB.select(\n",
    "    \n",
    "    _mean(col('Reported Date')).alias('mean'),\n",
    "    _stddev(col('Reported Date')).alias('std'),\n",
    "    _min(col('Reported Date')).alias('min'),\n",
    "    _max(col('Reported Date')).alias('max'),\n",
    "    _count(col('Reported Date')).alias('count')\n",
    "\n",
    ").collect()"
   ]
  },
  {
   "cell_type": "markdown",
   "metadata": {},
   "source": [
    "## Is the Reported Date correct?"
   ]
  },
  {
   "cell_type": "code",
   "execution_count": 15,
   "metadata": {},
   "outputs": [
    {
     "data": {
      "text/plain": [
       "[('Offence Count', 'string'),\n",
       " ('Offence Level 1 Description', 'string'),\n",
       " ('Offence Level 2 Description', 'string'),\n",
       " ('Offence Level 3 Description', 'string'),\n",
       " ('Postcode - Incident', 'string'),\n",
       " ('Reported Date', 'string'),\n",
       " ('Suburb - Incident', 'string'),\n",
       " ('_id', 'struct<oid:string>')]"
      ]
     },
     "execution_count": 15,
     "metadata": {},
     "output_type": "execute_result"
    }
   ],
   "source": [
    "data_crime_mongoDB.dtypes"
   ]
  },
  {
   "cell_type": "markdown",
   "metadata": {},
   "source": [
    "There is a potential propblem with the **Reported Date** column, since it's a **string**, it will not give us the **correct minimum and maximum date values**!"
   ]
  },
  {
   "cell_type": "markdown",
   "metadata": {},
   "source": [
    "# Step 6 - Change the Data Type of a Column\n",
    "\n",
    "Making use of the **udf** pre-defined function, we can use the lambda function with the correct format and the `DateType()` function to convert the string into a date datatype."
   ]
  },
  {
   "cell_type": "code",
   "execution_count": 16,
   "metadata": {},
   "outputs": [],
   "source": [
    "string_to_date_func = udf(lambda given_date: datetime.strptime(given_date, '%d/%m/%Y'), DateType())"
   ]
  },
  {
   "cell_type": "markdown",
   "metadata": {},
   "source": [
    "Converting the **Reported Date** column to a **datetime** format using the **udf**."
   ]
  },
  {
   "cell_type": "code",
   "execution_count": 17,
   "metadata": {},
   "outputs": [],
   "source": [
    "data_crime_mongoDB_updated = data_crime_mongoDB.withColumn('Reported Date', string_to_date_func(col('Reported Date')))"
   ]
  },
  {
   "cell_type": "code",
   "execution_count": 18,
   "metadata": {},
   "outputs": [
    {
     "data": {
      "text/plain": [
       "[('Offence Count', 'string'),\n",
       " ('Offence Level 1 Description', 'string'),\n",
       " ('Offence Level 2 Description', 'string'),\n",
       " ('Offence Level 3 Description', 'string'),\n",
       " ('Postcode - Incident', 'string'),\n",
       " ('Reported Date', 'date'),\n",
       " ('Suburb - Incident', 'string'),\n",
       " ('_id', 'struct<oid:string>')]"
      ]
     },
     "execution_count": 18,
     "metadata": {},
     "output_type": "execute_result"
    }
   ],
   "source": [
    "data_crime_mongoDB_updated.dtypes"
   ]
  },
  {
   "cell_type": "markdown",
   "metadata": {},
   "source": [
    "**Reported Date** is converted to a date data type now. Using the method before, we get the **minimum and maximum** as well as the count for the Reported Date column."
   ]
  },
  {
   "cell_type": "code",
   "execution_count": 19,
   "metadata": {},
   "outputs": [
    {
     "name": "stdout",
     "output_type": "stream",
     "text": [
      "+----------+----------+------+\n",
      "|       min|       max| count|\n",
      "+----------+----------+------+\n",
      "|2010-07-01|2019-03-31|726921|\n",
      "+----------+----------+------+\n",
      "\n"
     ]
    }
   ],
   "source": [
    "data_crime_mongoDB_updated.select(\n",
    "    \n",
    "    _min(col('Reported Date')).alias('min'),\n",
    "    _max(col('Reported Date')).alias('max'),\n",
    "    _count(col('Reported Date')).alias('count')\n",
    "\n",
    ").show()"
   ]
  },
  {
   "cell_type": "code",
   "execution_count": 20,
   "metadata": {},
   "outputs": [
    {
     "name": "stdout",
     "output_type": "stream",
     "text": [
      "+-------------+---------------------------+---------------------------+---------------------------+-------------------+-------------+-----------------+--------------------+\n",
      "|Offence Count|Offence Level 1 Description|Offence Level 2 Description|Offence Level 3 Description|Postcode - Incident|Reported Date|Suburb - Incident|                 _id|\n",
      "+-------------+---------------------------+---------------------------+---------------------------+-------------------+-------------+-----------------+--------------------+\n",
      "|            2|       OFFENCES AGAINST ...|       PROPERTY DAMAGE A...|       Other property da...|               5095|   23/08/2018|          POORAKA|[5d726e693163e328...|\n",
      "|            1|       OFFENCES AGAINST ...|       THEFT AND RELATED...|                Other theft|               5095|   23/08/2018|          POORAKA|[5d726e693163e328...|\n",
      "|            1|       OFFENCES AGAINST ...|       THEFT AND RELATED...|                Other theft|               5015|   23/08/2018|    PORT ADELAIDE|[5d726e693163e328...|\n",
      "|            1|       OFFENCES AGAINST ...|       ACTS INTENDED TO ...|             Common Assault|               5015|   23/08/2018|    PORT ADELAIDE|[5d726e693163e328...|\n",
      "|            2|       OFFENCES AGAINST ...|       PROPERTY DAMAGE A...|                   Graffiti|               5700|   23/08/2018|     PORT AUGUSTA|[5d726e693163e328...|\n",
      "+-------------+---------------------------+---------------------------+---------------------------+-------------------+-------------+-----------------+--------------------+\n",
      "only showing top 5 rows\n",
      "\n"
     ]
    }
   ],
   "source": [
    "data_crime_mongoDB.show(5)"
   ]
  },
  {
   "cell_type": "markdown",
   "metadata": {},
   "source": [
    "# Step 7 - Preliminary Data Analysis"
   ]
  },
  {
   "cell_type": "markdown",
   "metadata": {},
   "source": [
    "## Q1 : How many level 2 offences are there? Display the list of level 2 offences\n",
    "\n",
    "We will first **count the distinct number of Offence Level 2 Description** using `.countDistinct()` and then **aggregate** using `.agg()`"
   ]
  },
  {
   "cell_type": "code",
   "execution_count": 21,
   "metadata": {},
   "outputs": [
    {
     "name": "stdout",
     "output_type": "stream",
     "text": [
      "The number of Level 2 Offence Categories are: \n",
      "+---------------------------+\n",
      "|Offence Level 2 Description|\n",
      "+---------------------------+\n",
      "|                          9|\n",
      "+---------------------------+\n",
      "\n"
     ]
    }
   ],
   "source": [
    "print('The number of Level 2 Offence Categories are: ')\n",
    "data_crime_mongoDB.agg(countDistinct(col('Offence Level 2 Description')).alias('Offence Level 2 Description')).show()"
   ]
  },
  {
   "cell_type": "code",
   "execution_count": 22,
   "metadata": {},
   "outputs": [
    {
     "name": "stdout",
     "output_type": "stream",
     "text": [
      "Distint Level 2 Offences are : \n",
      "+---------------------------+\n",
      "|Offence Level 2 Description|\n",
      "+---------------------------+\n",
      "|       ROBBERY AND RELAT...|\n",
      "|       PROPERTY DAMAGE A...|\n",
      "|       SEXUAL ASSAULT AN...|\n",
      "|       HOMICIDE AND RELA...|\n",
      "|       ACTS INTENDED TO ...|\n",
      "|       SERIOUS CRIMINAL ...|\n",
      "|       OTHER OFFENCES AG...|\n",
      "|       FRAUD DECEPTION A...|\n",
      "|       THEFT AND RELATED...|\n",
      "+---------------------------+\n",
      "\n"
     ]
    }
   ],
   "source": [
    "print('Distint Level 2 Offences are : ')\n",
    "data_crime_mongoDB.select('Offence Level 2 Description').distinct().show()"
   ]
  },
  {
   "cell_type": "markdown",
   "metadata": {},
   "source": [
    "# Q2 : What is the number of offences against the person?\n",
    "\n",
    "Converting the `Offence Count` variable to an integer using `IntegerType()`. "
   ]
  },
  {
   "cell_type": "code",
   "execution_count": 23,
   "metadata": {},
   "outputs": [],
   "source": [
    "from pyspark.sql.types import IntegerType\n",
    "data_crime_mongoDB_updated = data_crime_mongoDB_updated.withColumn(\"Offence Count\", data_crime_mongoDB_updated[\"Offence Count\"].cast(IntegerType()))"
   ]
  },
  {
   "cell_type": "markdown",
   "metadata": {},
   "source": [
    "We can now aggregate using `.groupBy()` and take the sum using the `.sum()` and then display the total count."
   ]
  },
  {
   "cell_type": "code",
   "execution_count": 24,
   "metadata": {},
   "outputs": [
    {
     "data": {
      "text/plain": [
       "Row(Offence Level 1 Description='OFFENCES AGAINST THE PERSON', sum(Offence Count)=175480)"
      ]
     },
     "execution_count": 24,
     "metadata": {},
     "output_type": "execute_result"
    }
   ],
   "source": [
    "data_crime_mongoDB_updated.groupBy('Offence Level 1 Description').sum('Offence Count').collect()[0]"
   ]
  },
  {
   "cell_type": "code",
   "execution_count": 25,
   "metadata": {},
   "outputs": [
    {
     "name": "stdout",
     "output_type": "stream",
     "text": [
      "Total number of offences against the person are : 175480\n"
     ]
    }
   ],
   "source": [
    "print('Total number of offences against the person are : 175480')"
   ]
  },
  {
   "cell_type": "markdown",
   "metadata": {},
   "source": [
    "# Q3 : How many serious criminal tresspasses with more than 1 offence count?  \n",
    "\n",
    "Storing the Level 2 offences in `data_crime_mongoDB_Level_2` using the `.filter()` to get only the rows where **Offence Level 2 Description** is **SERIOUS CRIMINAL TRESPASS** and also **Offence Count is greater than 1**."
   ]
  },
  {
   "cell_type": "code",
   "execution_count": 26,
   "metadata": {},
   "outputs": [],
   "source": [
    "data_crime_mongoDB_Level_2 = data_crime_mongoDB.filter(data_crime_mongoDB['Offence Level 2 Description'] == 'SERIOUS CRIMINAL TRESPASS').filter(data_crime_mongoDB['Offence Count'] > 1).count()"
   ]
  },
  {
   "cell_type": "code",
   "execution_count": 27,
   "metadata": {},
   "outputs": [
    {
     "name": "stdout",
     "output_type": "stream",
     "text": [
      "Serious Criminal Tresspasses with more than 1 offence count is : 8574\n"
     ]
    }
   ],
   "source": [
    "print('Serious Criminal Tresspasses with more than 1 offence count is : ' + str(data_crime_mongoDB_Level_2))"
   ]
  },
  {
   "cell_type": "markdown",
   "metadata": {},
   "source": [
    "# Q4 - What percentage of crimes are offences against the property? \n",
    "\n",
    "Filtering the data and getting only the rows which have **Offence Level 1 Description** as **OFFENCES AGAINST PROPERTY** and maiking it in a percentage format."
   ]
  },
  {
   "cell_type": "code",
   "execution_count": 28,
   "metadata": {},
   "outputs": [
    {
     "name": "stdout",
     "output_type": "stream",
     "text": [
      "The percentage of offences against the property are :  78.55213977860043\n"
     ]
    }
   ],
   "source": [
    "data_crime_mongoDB_Level_1 = data_crime_mongoDB.filter(data_crime_mongoDB['Offence Level 1 Description'] == 'OFFENCES AGAINST PROPERTY').count()/data_crime_mongoDB.count()\n",
    "print('The percentage of offences against the property are : ', data_crime_mongoDB_Level_1*100)"
   ]
  },
  {
   "cell_type": "markdown",
   "metadata": {},
   "source": [
    "# Step 8 - Exploratory Data Analysis"
   ]
  },
  {
   "cell_type": "markdown",
   "metadata": {},
   "source": [
    "# Graph 1 - Find the number of crimes per year. Plot the graph and explain your understanding of the graph\n",
    "\n",
    "Calculating the number of crimes with respect to years. That is, we are grouping by **Reported Date** and taking a **sum** of **Offence Count**."
   ]
  },
  {
   "cell_type": "code",
   "execution_count": 29,
   "metadata": {},
   "outputs": [],
   "source": [
    "import pyspark.sql.functions as function\n",
    "from pyspark.sql.functions import hour, mean, year as crime_year\n",
    "\n",
    "data_crime_year = data_crime_mongoDB_updated.groupBy(crime_year(\"Reported Date\").alias(\"Crime Year\")).sum('Offence Count').collect()"
   ]
  },
  {
   "cell_type": "markdown",
   "metadata": {},
   "source": [
    "This still needs to be sorted, so we apply the `sorted()` on top of it."
   ]
  },
  {
   "cell_type": "code",
   "execution_count": 30,
   "metadata": {},
   "outputs": [
    {
     "data": {
      "text/plain": [
       "[Row(Crime Year=2010, sum(Offence Count)=61382),\n",
       " Row(Crime Year=2011, sum(Offence Count)=122176),\n",
       " Row(Crime Year=2012, sum(Offence Count)=112953),\n",
       " Row(Crime Year=2013, sum(Offence Count)=106761),\n",
       " Row(Crime Year=2014, sum(Offence Count)=101727),\n",
       " Row(Crime Year=2015, sum(Offence Count)=105628),\n",
       " Row(Crime Year=2016, sum(Offence Count)=107566),\n",
       " Row(Crime Year=2017, sum(Offence Count)=50144),\n",
       " Row(Crime Year=2018, sum(Offence Count)=55570),\n",
       " Row(Crime Year=2019, sum(Offence Count)=27753)]"
      ]
     },
     "execution_count": 30,
     "metadata": {},
     "output_type": "execute_result"
    }
   ],
   "source": [
    "data_crime_year = sorted(data_crime_year)\n",
    "data_crime_year"
   ]
  },
  {
   "cell_type": "markdown",
   "metadata": {},
   "source": [
    "Making two empty lists `plot_x` and `plot_y` and appending the years and their sum of offence counts onto them so that we can make a barplot."
   ]
  },
  {
   "cell_type": "code",
   "execution_count": 31,
   "metadata": {},
   "outputs": [],
   "source": [
    "plot_x = []\n",
    "plot_y = []\n",
    "\n",
    "for crime_year_iterator in data_crime_year:\n",
    "    \n",
    "    plot_x.append(str(crime_year_iterator[0]))\n",
    "    plot_y.append(crime_year_iterator[1])"
   ]
  },
  {
   "cell_type": "code",
   "execution_count": 32,
   "metadata": {},
   "outputs": [
    {
     "data": {
      "text/plain": [
       "Text(0.5, 1.0, 'Crime Rate as a function of Year')"
      ]
     },
     "execution_count": 32,
     "metadata": {},
     "output_type": "execute_result"
    },
    {
     "data": {
      "image/png": "[encoded data removed]",
      "text/plain": [
       "<Figure size 720x720 with 1 Axes>"
      ]
     },
     "metadata": {
      "needs_background": "light"
     },
     "output_type": "display_data"
    }
   ],
   "source": [
    "plt.figure(figsize=(10,10))\n",
    "plt.xlabel(\"Crime Year\")\n",
    "plt.ylabel(\"Offence Count\")\n",
    "plt.bar(plot_x,plot_y, width = 0.1)\n",
    "plt.title('Crime Rate as a function of Year')"
   ]
  },
  {
   "cell_type": "markdown",
   "metadata": {},
   "source": [
    "Looks like that crime really saw a spike in crimes which seems to be consistent from 2011 to 2016. From 2017 it starts decreasing and it's at it's lowest in 2019."
   ]
  },
  {
   "cell_type": "markdown",
   "metadata": {},
   "source": [
    "# Graph 2 - Find the number of crimes per month. Plot the graph and explain your understanding of the graph\n",
    "\n",
    "Same thing as above, but this time we will aggregate  based on **months, not years**."
   ]
  },
  {
   "cell_type": "code",
   "execution_count": 33,
   "metadata": {},
   "outputs": [],
   "source": [
    "import pyspark.sql.functions as function\n",
    "from pyspark.sql.functions import hour, mean, year as crime_year, month as crime_month\n",
    "\n",
    "data_crime_month = data_crime_mongoDB_updated.groupBy(crime_month(\"Reported Date\").alias(\"Crime Month\")).sum('Offence Count').collect()"
   ]
  },
  {
   "cell_type": "markdown",
   "metadata": {},
   "source": [
    "Sorting it for better interpretation."
   ]
  },
  {
   "cell_type": "code",
   "execution_count": 34,
   "metadata": {},
   "outputs": [],
   "source": [
    "data_crime_month = sorted(data_crime_month)"
   ]
  },
  {
   "cell_type": "markdown",
   "metadata": {},
   "source": [
    "Making two empty lists `plot_x` and `plot_y` and appending the years and their sum of offence counts onto them so that we can make a barplot."
   ]
  },
  {
   "cell_type": "code",
   "execution_count": 35,
   "metadata": {},
   "outputs": [],
   "source": [
    "plot_x = []\n",
    "plot_y = []\n",
    "\n",
    "for data_crime_month_iterator in data_crime_month:\n",
    "    \n",
    "    plot_x.append(str(data_crime_month_iterator[0]))\n",
    "    plot_y.append(data_crime_month_iterator[1])"
   ]
  },
  {
   "cell_type": "code",
   "execution_count": 36,
   "metadata": {},
   "outputs": [
    {
     "data": {
      "text/plain": [
       "<BarContainer object of 12 artists>"
      ]
     },
     "execution_count": 36,
     "metadata": {},
     "output_type": "execute_result"
    },
    {
     "data": {
      "image/png": "[encoded data removed]",
      "text/plain": [
       "<Figure size 720x720 with 1 Axes>"
      ]
     },
     "metadata": {
      "needs_background": "light"
     },
     "output_type": "display_data"
    }
   ],
   "source": [
    "plt.figure(figsize=(10,10))\n",
    "plt.xlabel(\"Crime Month\")\n",
    "plt.ylabel(\"Crime Count\")\n",
    "plt.bar(plot_x, plot_y, width=0.1, color = 'orange')"
   ]
  },
  {
   "cell_type": "markdown",
   "metadata": {},
   "source": [
    "Seems like a pretty consisten graph, with crimes being the highest during **January and December**, maybe it's because of the **New Year**? Also, months with the lowest crime are **April, March and May**."
   ]
  },
  {
   "cell_type": "markdown",
   "metadata": {},
   "source": [
    "# Graph 3 - Where do most crimes take place? Find the top 20 suburbs (which would also display postcode for e.g. Caulfield-3162 )?. Plot the graph and explain your understanding of the graph\n",
    "\n",
    "Grouping with respect to Suburb and Postcode, than taking a sum of Offence count."
   ]
  },
  {
   "cell_type": "code",
   "execution_count": 37,
   "metadata": {},
   "outputs": [],
   "source": [
    "data_crime_postcode = data_crime_mongoDB_updated.groupBy(['Suburb - Incident', 'Postcode - Incident']).sum('Offence Count').sort(descending('sum(Offence Count)')).collect()"
   ]
  },
  {
   "cell_type": "markdown",
   "metadata": {},
   "source": [
    "Taking only the top 20 data points."
   ]
  },
  {
   "cell_type": "code",
   "execution_count": 38,
   "metadata": {},
   "outputs": [],
   "source": [
    "data_crime_postcode = data_crime_postcode[:20]"
   ]
  },
  {
   "cell_type": "code",
   "execution_count": 39,
   "metadata": {},
   "outputs": [
    {
     "data": {
      "text/plain": [
       "[Row(Suburb - Incident='ADELAIDE', Postcode - Incident='5000', sum(Offence Count)=46701),\n",
       " Row(Suburb - Incident='PORT AUGUSTA', Postcode - Incident='5700', sum(Offence Count)=13711),\n",
       " Row(Suburb - Incident='MOUNT GAMBIER', Postcode - Incident='5290', sum(Offence Count)=13709),\n",
       " Row(Suburb - Incident='MURRAY BRIDGE', Postcode - Incident='5253', sum(Offence Count)=12919),\n",
       " Row(Suburb - Incident='MORPHETT VALE', Postcode - Incident='5162', sum(Offence Count)=12569),\n",
       " Row(Suburb - Incident='SALISBURY', Postcode - Incident='5108', sum(Offence Count)=10806),\n",
       " Row(Suburb - Incident='PORT LINCOLN', Postcode - Incident='5606', sum(Offence Count)=10779),\n",
       " Row(Suburb - Incident='ELIZABETH', Postcode - Incident='5112', sum(Offence Count)=10731),\n",
       " Row(Suburb - Incident='NOT DISCLOSED', Postcode - Incident='NOT DISCLOSED', sum(Offence Count)=9375),\n",
       " Row(Suburb - Incident='DAVOREN PARK', Postcode - Incident='5113', sum(Offence Count)=8082),\n",
       " Row(Suburb - Incident='PARAFIELD GARDENS', Postcode - Incident='5107', sum(Offence Count)=8040),\n",
       " Row(Suburb - Incident='OAKLANDS PARK', Postcode - Incident='5046', sum(Offence Count)=7792),\n",
       " Row(Suburb - Incident='PARALOWIE', Postcode - Incident='5108', sum(Offence Count)=7261),\n",
       " Row(Suburb - Incident='PROSPECT', Postcode - Incident='5082', sum(Offence Count)=7234),\n",
       " Row(Suburb - Incident='PORT PIRIE', Postcode - Incident='5540', sum(Offence Count)=7155),\n",
       " Row(Suburb - Incident='MODBURY', Postcode - Incident='5092', sum(Offence Count)=7041),\n",
       " Row(Suburb - Incident='SMITHFIELD', Postcode - Incident='5114', sum(Offence Count)=7000),\n",
       " Row(Suburb - Incident='SALISBURY NORTH', Postcode - Incident='5108', sum(Offence Count)=6538),\n",
       " Row(Suburb - Incident='WHYALLA STUART', Postcode - Incident='5608', sum(Offence Count)=6297),\n",
       " Row(Suburb - Incident='MAWSON LAKES', Postcode - Incident='5095', sum(Offence Count)=6103)]"
      ]
     },
     "execution_count": 39,
     "metadata": {},
     "output_type": "execute_result"
    }
   ],
   "source": [
    "data_crime_postcode"
   ]
  },
  {
   "cell_type": "markdown",
   "metadata": {},
   "source": [
    "Making two empty lists `plot_x` and `plot_y` and appending the years and their sum of offence counts onto them so that we can make a barplot."
   ]
  },
  {
   "cell_type": "code",
   "execution_count": 40,
   "metadata": {},
   "outputs": [],
   "source": [
    "plot_x = []\n",
    "plot_y = []\n",
    "\n",
    "for data_crime_postcode_iterator in data_crime_postcode:\n",
    "    \n",
    "    plot_x.append(str(data_crime_postcode_iterator[0]))\n",
    "    plot_y.append(data_crime_postcode_iterator[2])"
   ]
  },
  {
   "cell_type": "code",
   "execution_count": 41,
   "metadata": {},
   "outputs": [
    {
     "data": {
      "text/plain": [
       "<BarContainer object of 20 artists>"
      ]
     },
     "execution_count": 41,
     "metadata": {},
     "output_type": "execute_result"
    },
    {
     "data": {
      "image/png": "[encoded data removed]",
      "text/plain": [
       "<Figure size 720x720 with 1 Axes>"
      ]
     },
     "metadata": {
      "needs_background": "light"
     },
     "output_type": "display_data"
    }
   ],
   "source": [
    "plt.figure(figsize=(10,10))\n",
    "plt.xlabel(\"Crime Suburb and Post Code\")\n",
    "plt.ylabel(\"Crime Count\")\n",
    "plt.xticks(rotation=90)\n",
    "plt.bar(plot_x, plot_y, width=0.1, color = 'yellow')"
   ]
  },
  {
   "cell_type": "markdown",
   "metadata": {},
   "source": [
    "Looks like the **Adelaide** is the crime capital of the world! There's just so much more crime there than in any other place, or atleast it seems to be. Every other suburb seems to be safer as compared to Adelaide with **Mawson Lakes** being the safest in the top 20 atleast."
   ]
  },
  {
   "cell_type": "markdown",
   "metadata": {},
   "source": [
    "# References\n",
    "\n",
    "1) https://stackoverflow.com/questions/10998621/rotate-axis-text-in-python-matplotlib\n",
    "\n",
    "2) https://stackoverflow.com/questions/38080748/convert-pyspark-string-to-date-format\n",
    "\n",
    "3) https://matplotlib.org/2.1.1/api/_as_gen/matplotlib.pyplot.plot.html\n",
    "\n",
    "4) https://stackoverflow.com/questions/42826502/pyspark-dataframe-group-by-filtering\n",
    "\n",
    "5) https://forums.databricks.com/questions/9655/how-to-get-unique-values-of-a-column-in-pyspark-da.html"
   ]
  },
  {
   "cell_type": "code",
   "execution_count": null,
   "metadata": {},
   "outputs": [],
   "source": []
  }
 ],
 "metadata": {
  "kernelspec": {
   "display_name": "Python 3",
   "language": "python",
   "name": "python3"
  },
  "language_info": {
   "codemirror_mode": {
    "name": "ipython",
    "version": 3
   },
   "file_extension": ".py",
   "mimetype": "text/x-python",
   "name": "python",
   "nbconvert_exporter": "python",
   "pygments_lexer": "ipython3",
   "version": "3.7.3"
  }
 },
 "nbformat": 4,
 "nbformat_minor": 2
}
